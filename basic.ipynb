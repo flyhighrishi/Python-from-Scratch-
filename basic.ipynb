{
 "cells": [
  {
   "cell_type": "code",
   "execution_count": 1,
   "metadata": {},
   "outputs": [],
   "source": [
    "# Show Result: When You use a software/website/app, you except it to do something and show you output."
   ]
  },
  {
   "cell_type": "code",
   "execution_count": 2,
   "metadata": {},
   "outputs": [],
   "source": [
    " #To display Output, you need to use a specific Keyword \"print\""
   ]
  },
  {
   "cell_type": "code",
   "execution_count": 3,
   "metadata": {},
   "outputs": [
    {
     "name": "stdout",
     "output_type": "stream",
     "text": [
      "Emma Watson\n"
     ]
    }
   ],
   "source": [
    "#eg \n",
    "print(\"Emma Watson\")"
   ]
  },
  {
   "cell_type": "code",
   "execution_count": null,
   "metadata": {},
   "outputs": [],
   "source": []
  },
  {
   "cell_type": "code",
   "execution_count": 5,
   "metadata": {},
   "outputs": [],
   "source": [
    "# Variable: \n",
    "# Think about your Facebook profile picture for a second. You can change itany time.\n",
    "# This means our profile pic could vary change.\n",
    "# Similararly, the number of likes is not the same for everything you can see on facebook or youtube.\n",
    "# Similarly, it's higher and sometimes it's lower. This means numbers of likes could vary or change. \n",
    "# In fact, a lot of things you see aroud you could vary change."
   ]
  },
  {
   "cell_type": "code",
   "execution_count": 6,
   "metadata": {},
   "outputs": [],
   "source": [
    "# Variable = Vary +  able\n",
    "# Hence Variable is something that could vary"
   ]
  },
  {
   "cell_type": "code",
   "execution_count": 7,
   "metadata": {},
   "outputs": [],
   "source": [
    "# WHAT the Heck IS VARIABLE\n",
    "# A varibale is one of the fundamental concepts of programming.\n",
    "# Think about google.com : \n",
    "# You do not search for the same thing on google.\n",
    "# Instead, sometimes you search for how to impress other, \n",
    "# other times you search for how to win a lottery, or Which day is Monday.\n",
    "# That measn what you search on google changes       "
   ]
  },
  {
   "cell_type": "code",
   "execution_count": 9,
   "metadata": {},
   "outputs": [],
   "source": [
    "# As a programmer, you will write variables every day. And it's very simple to write variable. \n",
    "# You will need just three things-\n",
    "\n",
    "# 1\tA name\n",
    "# 2\tAn equal Sign(=)\n",
    "# 3\tA value\n",
    "\n",
    "# e.g.:\n",
    "#                  likes  =  43\n",
    "# \t\t\t\t\t|\t|  |\t\t\t\t          \n",
    "# \t\tVariable name  \t|  value\n",
    "# \t\t\t\t\t\t|\n",
    "# \t\t\t\t\tequal sign\n"
   ]
  },
  {
   "cell_type": "code",
   "execution_count": 11,
   "metadata": {},
   "outputs": [
    {
     "name": "stdout",
     "output_type": "stream",
     "text": [
      "28\n"
     ]
    }
   ],
   "source": [
    "likes=43\n",
    "likes=71\n",
    "likes=28\n",
    "print(likes)"
   ]
  },
  {
   "cell_type": "code",
   "execution_count": null,
   "metadata": {},
   "outputs": [],
   "source": []
  }
 ],
 "metadata": {
  "kernelspec": {
   "display_name": "Python 3",
   "language": "python",
   "name": "python3"
  },
  "language_info": {
   "codemirror_mode": {
    "name": "ipython",
    "version": 3
   },
   "file_extension": ".py",
   "mimetype": "text/x-python",
   "name": "python",
   "nbconvert_exporter": "python",
   "pygments_lexer": "ipython3",
   "version": "3.6.9"
  }
 },
 "nbformat": 4,
 "nbformat_minor": 2
}

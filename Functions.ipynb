{
 "cells": [
  {
   "cell_type": "code",
   "execution_count": 1,
   "metadata": {},
   "outputs": [
    {
     "name": "stdout",
     "output_type": "stream",
     "text": [
      "Hello, Vivek. Good Afternoon!\n"
     ]
    }
   ],
   "source": [
    "#What is a function in Python?\n",
    "'a function is a group of related statements that performs a specific task.'\n",
    "'Functions help break our program into smaller and modular chunks. As our program grows larger and larger,'\n",
    "' functions make it more organized and manageable.'\n",
    "'Furthermore, it avoids repetition and makes the code reusable.'\n",
    "\n",
    "\n",
    "#Syntax of Function\n",
    "'''def function_name(parameters):\n",
    "\t\"\"\"docstring\"\"\"\n",
    "\tstatement(s)'''\n",
    "\n",
    "'''Above shown is a function definition that consists of the following components.\n",
    "\n",
    "    1. Keyword def that marks the start of the function header.\n",
    "    \n",
    "    2. A function name to uniquely identify the function. Function naming follows the same \n",
    "    rules of writing identifiers in Python.\n",
    "    \n",
    "    3. Parameters (arguments) through which we pass values to a function. They are optional.\n",
    "    \n",
    "    4. A colon (:) to mark the end of the function header.\n",
    "    \n",
    "    5. Optional documentation string (docstring) to describe what the function does.\n",
    "    \n",
    "    6. One or more valid python statements that make up the function body. Statements must have \n",
    "    the same indentation level (usually 4 spaces).\n",
    "    \n",
    "    7.An optional return statement to return a value from the function.\n",
    "'''\n",
    "def greet(name):\n",
    "    \"\"\"\n",
    "    This function greets to\n",
    "    the person passed in as\n",
    "    a parameter\n",
    "    \"\"\"\n",
    "    print(\"Hello, \" + name + \". Good Afternoon!\")\n",
    "greet('Vivek')"
   ]
  },
  {
   "cell_type": "code",
   "execution_count": 2,
   "metadata": {},
   "outputs": [
    {
     "name": "stdout",
     "output_type": "stream",
     "text": [
      "\n",
      "    This function greets to\n",
      "    the person passed in as\n",
      "    a parameter\n",
      "    \n"
     ]
    }
   ],
   "source": [
    "#Docstrings\n",
    "'The first string after the function header is called the docstring and is short for documentation string. '\n",
    "\"It is briefly used to explain what a function does.\"\n",
    "print(greet.__doc__)\n"
   ]
  },
  {
   "cell_type": "code",
   "execution_count": 3,
   "metadata": {},
   "outputs": [
    {
     "name": "stdout",
     "output_type": "stream",
     "text": [
      "Hello, May. Good Afternoon!\n",
      "None\n"
     ]
    }
   ],
   "source": [
    "#The return statement\n",
    "'The return statement is used to exit a function and go back to the place from where it was called.'\n",
    "#Syntax of return\n",
    "'return [expression_list]'\n",
    "print(greet(\"May\"))\n",
    "\n",
    "#Here, None is the returned value since greet() directly prints the name and no return statement is used."
   ]
  },
  {
   "cell_type": "code",
   "execution_count": 4,
   "metadata": {},
   "outputs": [
    {
     "name": "stdout",
     "output_type": "stream",
     "text": [
      "2\n",
      "4\n"
     ]
    }
   ],
   "source": [
    "def absolute_value(num):\n",
    "    \"\"\"This function returns the absolute\n",
    "    value of the entered number\"\"\"\n",
    "\n",
    "    if num >= 0:\n",
    "        return num\n",
    "    else:\n",
    "        return -num\n",
    "\n",
    "\n",
    "print(absolute_value(2))\n",
    "\n",
    "print(absolute_value(-4))"
   ]
  },
  {
   "cell_type": "code",
   "execution_count": 5,
   "metadata": {},
   "outputs": [
    {
     "name": "stdout",
     "output_type": "stream",
     "text": [
      "Value inside function: 10\n",
      "Value outside function: 20\n"
     ]
    }
   ],
   "source": [
    "#Scope and Lifetime of variables\n",
    "'Parameters and variables defined inside a function are not visible from outside the function.'\n",
    "' Hence, they have a local scope.'\n",
    "\n",
    "def my_func():\n",
    "    x = 10\n",
    "    print(\"Value inside function:\",x)\n",
    "\n",
    "x = 20\n",
    "my_func()\n",
    "print(\"Value outside function:\",x)"
   ]
  },
  {
   "cell_type": "code",
   "execution_count": 6,
   "metadata": {},
   "outputs": [
    {
     "data": {
      "text/plain": [
       "'Basically, we can divide functions into the following two types:'"
      ]
     },
     "execution_count": 6,
     "metadata": {},
     "output_type": "execute_result"
    }
   ],
   "source": [
    "#Types of Functions\n",
    "\"Basically, we can divide functions into the following two types:\"\n",
    "#1.Built-in functions - Functions that are built into Python.\n",
    "#2.User-defined functions - Functions defined by the users themselves."
   ]
  },
  {
   "cell_type": "code",
   "execution_count": 11,
   "metadata": {},
   "outputs": [
    {
     "name": "stdout",
     "output_type": "stream",
     "text": [
      "Enter number 1: 23\n",
      "Enter number 2: 33\n",
      "The sum is 56\n"
     ]
    }
   ],
   "source": [
    "#User-defined functions\n",
    "'Functions that we define ourselves to do certain specific task are referred as user-defined functions.'\n",
    "'''Advantages of user-defined functions\n",
    "\n",
    "    1. User-defined functions help to decompose a large program into small segments which makes program easy to understand,\n",
    "    maintain and debug.\n",
    "    \n",
    "    2. If repeated code occurs in a program. Function can be used to include those codes and execute when needed by\n",
    "    calling that function.\n",
    "    \n",
    "    3.Programmars working on large project can divide the workload by making different functions.\n",
    "'''\n",
    "\n",
    "def add_numbers(x,y):\n",
    "   sum = x + y\n",
    "   return sum\n",
    "\n",
    "num1 = int(input(\"Enter number 1: \"))\n",
    "num2 = int(input(\"Enter number 2: \"))\n",
    "print(\"The sum is\", add_numbers(num1, num2))"
   ]
  },
  {
   "cell_type": "code",
   "execution_count": 14,
   "metadata": {},
   "outputs": [
    {
     "name": "stdout",
     "output_type": "stream",
     "text": [
      "Hello Vivek, Good Afternoon!\n"
     ]
    },
    {
     "ename": "TypeError",
     "evalue": "greet() missing 1 required positional argument: 'msg'",
     "output_type": "error",
     "traceback": [
      "\u001b[0;31m---------------------------------------------------------------------------\u001b[0m",
      "\u001b[0;31mTypeError\u001b[0m                                 Traceback (most recent call last)",
      "\u001b[0;32m<ipython-input-14-f9fa53955fc9>\u001b[0m in \u001b[0;36m<module>\u001b[0;34m\u001b[0m\n\u001b[1;32m     11\u001b[0m \u001b[0mIf\u001b[0m \u001b[0mwe\u001b[0m \u001b[0mcall\u001b[0m \u001b[0mit\u001b[0m \u001b[0;32mwith\u001b[0m \u001b[0ma\u001b[0m \u001b[0mdifferent\u001b[0m \u001b[0mnumber\u001b[0m \u001b[0mof\u001b[0m \u001b[0marguments\u001b[0m\u001b[0;34m,\u001b[0m \u001b[0mthe\u001b[0m \u001b[0minterpreter\u001b[0m \u001b[0mwill\u001b[0m \u001b[0mshow\u001b[0m \u001b[0man\u001b[0m \u001b[0merror\u001b[0m \u001b[0mmessage\u001b[0m\u001b[0;34m.\u001b[0m\u001b[0;34m\u001b[0m\u001b[0;34m\u001b[0m\u001b[0m\n\u001b[1;32m     12\u001b[0m Below is a call to this function with one and no arguments along with their respective error messages.'''\n\u001b[0;32m---> 13\u001b[0;31m \u001b[0mgreet\u001b[0m\u001b[0;34m(\u001b[0m\u001b[0;34m\"Monica\"\u001b[0m\u001b[0;34m)\u001b[0m\u001b[0;34m\u001b[0m\u001b[0;34m\u001b[0m\u001b[0m\n\u001b[0m",
      "\u001b[0;31mTypeError\u001b[0m: greet() missing 1 required positional argument: 'msg'"
     ]
    }
   ],
   "source": [
    "#Arguments\n",
    "def greet(name, msg):\n",
    "    \"\"\"This function greets to\n",
    "    the person with the provided message\"\"\"\n",
    "    print(\"Hello\", name + ', ' + msg)\n",
    "\n",
    "greet(\"Vivek\", \"Good Afternoon!\")\n",
    "\n",
    "'''Here, the function greet() has two parameters.\n",
    "Since we have called this function with two arguments, it runs smoothly and we do not get any error.\n",
    "If we call it with a different number of arguments, the interpreter will show an error message. \n",
    "Below is a call to this function with one and no arguments along with their respective error messages.'''\n",
    "greet(\"Monica\") "
   ]
  },
  {
   "cell_type": "code",
   "execution_count": 15,
   "metadata": {},
   "outputs": [
    {
     "name": "stdout",
     "output_type": "stream",
     "text": [
      "Hello Carry, Good Afternoon!\n",
      "Hello Sachin, How do you do?\n"
     ]
    }
   ],
   "source": [
    "#Variable Function Arguments\n",
    "'''functions had a fixed number of arguments. \n",
    "In Python, there are other ways to define a function that can take variable number of arguments.'''\n",
    "#Three different forms of this type are described below\n",
    "\n",
    "#1.Python Default Arguments\n",
    "'''Function arguments can have default values in Python.\n",
    "We can provide a default value to an argument by using the assignment operator (=). '''\n",
    "def greet(name, msg=\"Good Afternoon!\"):\n",
    "    \"\"\"\n",
    "    This function greets to\n",
    "    the person with the\n",
    "    provided message.\n",
    "\n",
    "    If the message is not provided,\n",
    "    it defaults to \"Good\n",
    "    morning!\"\n",
    "    \"\"\"\n",
    "\n",
    "    print(\"Hello\", name + ', ' + msg)\n",
    "\n",
    "\n",
    "greet(\"Carry\")\n",
    "greet(\"Sachin\", \"How do you do?\")"
   ]
  },
  {
   "cell_type": "code",
   "execution_count": 16,
   "metadata": {},
   "outputs": [
    {
     "name": "stdout",
     "output_type": "stream",
     "text": [
      "Hello Bruce, How do you do?\n"
     ]
    }
   ],
   "source": [
    "#2. Python Keyword Arguments\n",
    "'When we call a function with some values, these values get assigned to the arguments according to their position.'\n",
    "greet(name = \"Bruce\",msg = \"How do you do?\")"
   ]
  },
  {
   "cell_type": "code",
   "execution_count": 17,
   "metadata": {},
   "outputs": [
    {
     "name": "stdout",
     "output_type": "stream",
     "text": [
      " true\n",
      " false\n"
     ]
    }
   ],
   "source": [
    "# Python3 program to check if a number is prime \n",
    "def isPrime(n) : \n",
    "    if (n <= 1) : \n",
    "        return False\n",
    "    if (n <= 3) : \n",
    "        return True\n",
    "    if (n % 2 == 0 or n % 3 == 0) : \n",
    "        return False\n",
    "    i = 5\n",
    "    while(i * i <= n) : \n",
    "        if (n % i == 0 or n % (i + 2) == 0) : \n",
    "            return False\n",
    "        i = i + 6\n",
    "    return True\n",
    "if (isPrime(11)) : \n",
    "    print(\" true\") \n",
    "else : \n",
    "    print(\" false\") \n",
    "      \n",
    "if(isPrime(15)) : \n",
    "    print(\" true\") \n",
    "else :  \n",
    "    print(\" false\") "
   ]
  },
  {
   "cell_type": "code",
   "execution_count": null,
   "metadata": {},
   "outputs": [],
   "source": []
  },
  {
   "cell_type": "code",
   "execution_count": 7,
   "metadata": {},
   "outputs": [
    {
     "data": {
      "text/plain": [
       "'We can define a function that takes variable number of arguments.'"
      ]
     },
     "execution_count": 7,
     "metadata": {},
     "output_type": "execute_result"
    }
   ],
   "source": [
    "#Python Function Arguments\n",
    "'We can define a function that takes variable number of arguments.'"
   ]
  },
  {
   "cell_type": "code",
   "execution_count": null,
   "metadata": {},
   "outputs": [],
   "source": [
    "#Arguments\n"
   ]
  }
 ],
 "metadata": {
  "kernelspec": {
   "display_name": "Python 3",
   "language": "python",
   "name": "python3"
  },
  "language_info": {
   "codemirror_mode": {
    "name": "ipython",
    "version": 3
   },
   "file_extension": ".py",
   "mimetype": "text/x-python",
   "name": "python",
   "nbconvert_exporter": "python",
   "pygments_lexer": "ipython3",
   "version": "3.8.2"
  }
 },
 "nbformat": 4,
 "nbformat_minor": 4
}
